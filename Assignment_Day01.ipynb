{
  "nbformat": 4,
  "nbformat_minor": 0,
  "metadata": {
    "colab": {
      "name": "Assignment_Day01",
      "provenance": [],
      "authorship_tag": "ABX9TyMEjwon6XrPgKHWEScp0bDq",
      "include_colab_link": true
    },
    "kernelspec": {
      "name": "python3",
      "display_name": "Python 3"
    }
  },
  "cells": [
    {
      "cell_type": "markdown",
      "metadata": {
        "id": "view-in-github",
        "colab_type": "text"
      },
      "source": [
        "<a href=\"https://colab.research.google.com/github/akshaypradheep/Python-Intermediate-Course-by-Wioo/blob/master/Assignment_Day01.ipynb\" target=\"_parent\"><img src=\"https://colab.research.google.com/assets/colab-badge.svg\" alt=\"Open In Colab\"/></a>"
      ]
    },
    {
      "cell_type": "code",
      "metadata": {
        "id": "oCP70dlE3ah8",
        "colab_type": "code",
        "colab": {
          "base_uri": "https://localhost:8080/",
          "height": 35
        },
        "outputId": "b2b67735-ac52-4e32-d648-b41f19fbbe2d"
      },
      "source": [
        "#1. Give two 1D Matrices and find the sum of its BIGGEST elements \n",
        "import numpy as np\n",
        "a=np.array([1,10,5,2,4,3,8])\n",
        "b=np.array([10,3,5,2,5,9,4])\n",
        "print((np.sort(a)[-1])+(np.sort(a)[-1]))"
      ],
      "execution_count": 2,
      "outputs": [
        {
          "output_type": "stream",
          "text": [
            "20\n"
          ],
          "name": "stdout"
        }
      ]
    },
    {
      "cell_type": "code",
      "metadata": {
        "id": "0KMzXO8G5bRr",
        "colab_type": "code",
        "colab": {
          "base_uri": "https://localhost:8080/",
          "height": 35
        },
        "outputId": "30f008ca-da70-4117-899d-938976004173"
      },
      "source": [
        "#2.Give two 2D Matrices A and B, Find the Big of Smallest elements from A and B\n",
        "import numpy as np\n",
        "a=np.array([[10,20,30,40,50],[1,2,3,4,5]])\n",
        "b=np.array([[60,70,80,90,100],[6,7,8,9,10]])\n",
        "#c=np.array([np.sort(a.ravel())[0],np.sort(b.ravel())[0]])\n",
        "c=np.array([np.amin(a),np.amin(b)])\n",
        "print(np.amax(c))"
      ],
      "execution_count": 43,
      "outputs": [
        {
          "output_type": "stream",
          "text": [
            "6\n"
          ],
          "name": "stdout"
        }
      ]
    },
    {
      "cell_type": "code",
      "metadata": {
        "id": "40ERFaWK-KNz",
        "colab_type": "code",
        "colab": {
          "base_uri": "https://localhost:8080/",
          "height": 35
        },
        "outputId": "e881f434-e5a8-4cf7-9413-326218cad23d"
      },
      "source": [
        "#  3.Give 2 2D matrices A & B,convert both to its flattened representations \n",
        "#say C & D, find sum matrix (E) of C & D, display the transpose of matrix E\n",
        "import numpy as np\n",
        "a=np.array([[10,20,30,40,50],[1,2,3,4,5]])\n",
        "b=np.array([[60,70,80,90,100],[6,7,8,9,10]])\n",
        "c=np.ravel(a)\n",
        "d=np.ravel(b)\n",
        "e=c+d\n",
        "print(e.T)"
      ],
      "execution_count": 63,
      "outputs": [
        {
          "output_type": "stream",
          "text": [
            "[ 70  90 110 130 150   7   9  11  13  15]\n"
          ],
          "name": "stdout"
        }
      ]
    },
    {
      "cell_type": "code",
      "metadata": {
        "id": "qN27P8HyGHxA",
        "colab_type": "code",
        "colab": {
          "base_uri": "https://localhost:8080/",
          "height": 71
        },
        "outputId": "68933f49-0485-4b91-92ce-3b00a826774a"
      },
      "source": [
        "#4. Perform matrix multiplication of a 3x4 and 4x5 matrix\n",
        "import numpy as np\n",
        "a=np.arange(1,13,1).reshape(3,4)\n",
        "b=np.arange(1,21,1).reshape(4,5)\n",
        "print(np.dot(a,b))"
      ],
      "execution_count": 84,
      "outputs": [
        {
          "output_type": "stream",
          "text": [
            "[[110 120 130 140 150]\n",
            " [246 272 298 324 350]\n",
            " [382 424 466 508 550]]\n"
          ],
          "name": "stdout"
        }
      ]
    },
    {
      "cell_type": "code",
      "metadata": {
        "id": "_RbQKicGJ4SI",
        "colab_type": "code",
        "colab": {
          "base_uri": "https://localhost:8080/",
          "height": 53
        },
        "outputId": "087bbd41-8312-4731-a3f5-d22bcc4b4f23"
      },
      "source": [
        "#5.Reverse a 1D array, and perform sorting on it \n",
        "import numpy as np\n",
        "a=np.array([3,2,4,1,6,7,9,8,5])\n",
        "print(\"array in reverse\",a[::-1])\n",
        "print(\"sorted array\",np.sort(a[::-1]))\n"
      ],
      "execution_count": 89,
      "outputs": [
        {
          "output_type": "stream",
          "text": [
            "array in reverse [5 8 9 7 6 1 4 2 3]\n",
            "sorted array [1 2 3 4 5 6 7 8 9]\n"
          ],
          "name": "stdout"
        }
      ]
    }
  ]
}