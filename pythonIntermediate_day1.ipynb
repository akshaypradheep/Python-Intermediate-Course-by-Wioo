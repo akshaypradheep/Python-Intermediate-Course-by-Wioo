{
  "nbformat": 4,
  "nbformat_minor": 0,
  "metadata": {
    "colab": {
      "name": "pythonIntermediate_day1.ipynb",
      "provenance": [],
      "authorship_tag": "ABX9TyNssSLaGqBY8wvsOYzrTOEt",
      "include_colab_link": true
    },
    "kernelspec": {
      "name": "python3",
      "display_name": "Python 3"
    }
  },
  "cells": [
    {
      "cell_type": "markdown",
      "metadata": {
        "id": "view-in-github",
        "colab_type": "text"
      },
      "source": [
        "<a href=\"https://colab.research.google.com/github/akshaypradheep/Python-Intermediate-Course-by-Wioo/blob/master/pythonIntermediate_day1.ipynb\" target=\"_parent\"><img src=\"https://colab.research.google.com/assets/colab-badge.svg\" alt=\"Open In Colab\"/></a>"
      ]
    },
    {
      "cell_type": "code",
      "metadata": {
        "id": "Kp6m14lVH_JV",
        "colab_type": "code",
        "colab": {
          "base_uri": "https://localhost:8080/",
          "height": 35
        },
        "outputId": "beb2f557-6175-408d-c168-3ea27399cdcf"
      },
      "source": [
        "import numpy as np\n",
        "#one dimensional Array\n",
        "a=np.array([5,3,5,3,2,1,4])\n",
        "print(a)\n"
      ],
      "execution_count": 10,
      "outputs": [
        {
          "output_type": "stream",
          "text": [
            "[5 3 5 3 2 1 4]\n"
          ],
          "name": "stdout"
        }
      ]
    },
    {
      "cell_type": "code",
      "metadata": {
        "id": "5Fc3OhOVJ6X1",
        "colab_type": "code",
        "colab": {
          "base_uri": "https://localhost:8080/",
          "height": 71
        },
        "outputId": "ba32b4c5-affb-4245-af5f-3868f8128055"
      },
      "source": [
        "#2d array\n",
        "import numpy as np\n",
        "b=np.array([[1,2,3,4,5],[9,6,5,4,4]])\n",
        "print(b)\n",
        "print(b[1][1])"
      ],
      "execution_count": 13,
      "outputs": [
        {
          "output_type": "stream",
          "text": [
            "[[1 2 3 4 5]\n",
            " [9 6 5 4 4]]\n",
            "6\n"
          ],
          "name": "stdout"
        }
      ]
    },
    {
      "cell_type": "markdown",
      "metadata": {
        "id": "COBWbFkkLS02",
        "colab_type": "text"
      },
      "source": [
        "\n"
      ]
    },
    {
      "cell_type": "code",
      "metadata": {
        "id": "jmmBbdL8Lbjc",
        "colab_type": "code",
        "colab": {
          "base_uri": "https://localhost:8080/",
          "height": 35
        },
        "outputId": "de3c4003-85be-4ede-f179-ed69abec8cb9"
      },
      "source": [
        "#array operation\n",
        "#search,sum,sum of 2 arrays,big of array, small of array,sort, traversal \n",
        "\n",
        "a=np.array([10,20,30,40,50])\n",
        "a=a+1\n",
        "print(a)"
      ],
      "execution_count": 16,
      "outputs": [
        {
          "output_type": "stream",
          "text": [
            "[11 21 31 41 51]\n"
          ],
          "name": "stdout"
        }
      ]
    },
    {
      "cell_type": "code",
      "metadata": {
        "id": "DWXn_C_sLQ2s",
        "colab_type": "code",
        "colab": {
          "base_uri": "https://localhost:8080/",
          "height": 35
        },
        "outputId": "c5712cae-23aa-4624-dd88-ed2c13e33ad8"
      },
      "source": [
        "a=np.array([10,20,30,40,50])\n",
        "b=np.array([1,2,3,4,5])\n",
        "c=a%b\n",
        "print(c)"
      ],
      "execution_count": 21,
      "outputs": [
        {
          "output_type": "stream",
          "text": [
            "[0 0 0 0 0]\n"
          ],
          "name": "stdout"
        }
      ]
    },
    {
      "cell_type": "code",
      "metadata": {
        "id": "AMhQrRerMp6F",
        "colab_type": "code",
        "colab": {
          "base_uri": "https://localhost:8080/",
          "height": 88
        },
        "outputId": "12ade290-9b6b-4832-b107-8b6e2a77a102"
      },
      "source": [
        "#create array of of zeros and ones\n",
        "a=np.zeros(3)\n",
        "b=np.ones(2)\n",
        "c=np.zeros((2,2))\n",
        "print(a)\n",
        "print(b)\n",
        "print(c)"
      ],
      "execution_count": 26,
      "outputs": [
        {
          "output_type": "stream",
          "text": [
            "[0. 0. 0.]\n",
            "[1. 1.]\n",
            "[[0. 0.]\n",
            " [0. 0.]]\n"
          ],
          "name": "stdout"
        }
      ]
    },
    {
      "cell_type": "code",
      "metadata": {
        "id": "0cvQWthHNUqa",
        "colab_type": "code",
        "colab": {
          "base_uri": "https://localhost:8080/",
          "height": 35
        },
        "outputId": "c6a5a5c4-4eab-4de9-ffa3-0ced08796d36"
      },
      "source": [
        "#logical operation < , > ,==\n",
        "a=np.array([1,2,3,4,12])\n",
        "b=np.array([2,3,4,5,12])\n",
        "a==b\n",
        "#a<b\n",
        "\n"
      ],
      "execution_count": 30,
      "outputs": [
        {
          "output_type": "execute_result",
          "data": {
            "text/plain": [
              "array([ True,  True,  True,  True, False])"
            ]
          },
          "metadata": {
            "tags": []
          },
          "execution_count": 30
        }
      ]
    },
    {
      "cell_type": "code",
      "metadata": {
        "id": "Q4s6N6KTOF4k",
        "colab_type": "code",
        "colab": {
          "base_uri": "https://localhost:8080/",
          "height": 35
        },
        "outputId": "0af0cc9d-fa90-4766-d0c3-b18e8f1e3530"
      },
      "source": [
        "#logical operations\n",
        "a=np.array([2,3,4])\n",
        "b=np.array([2,3,4])\n",
        "np.logical_or(a,b)"
      ],
      "execution_count": 33,
      "outputs": [
        {
          "output_type": "execute_result",
          "data": {
            "text/plain": [
              "array([ True,  True,  True])"
            ]
          },
          "metadata": {
            "tags": []
          },
          "execution_count": 33
        }
      ]
    },
    {
      "cell_type": "code",
      "metadata": {
        "id": "8RQTMeeuOoFE",
        "colab_type": "code",
        "colab": {
          "base_uri": "https://localhost:8080/",
          "height": 35
        },
        "outputId": "fdf8196f-50c0-4446-c6c4-fb8306f0f7bb"
      },
      "source": [
        "#sum of total elements in the array\n",
        "a=np.array([[1,2,3,4],[10,2,3,4]])\n",
        "print(\"sum of total elements :\", np.sum(a))"
      ],
      "execution_count": 38,
      "outputs": [
        {
          "output_type": "stream",
          "text": [
            "sum of total elements : 29\n"
          ],
          "name": "stdout"
        }
      ]
    },
    {
      "cell_type": "code",
      "metadata": {
        "id": "f-g4K4b1Pdwu",
        "colab_type": "code",
        "colab": {
          "base_uri": "https://localhost:8080/",
          "height": 71
        },
        "outputId": "ab08c051-e410-4229-e23a-294898a32268"
      },
      "source": [
        "#sum of row || coloum only \n",
        "a=np.array([[10,20,30,40,50],[1,2,3,4,5]])\n",
        "print(\"row sum =\",a.sum(axis=1))\n",
        "print(\"row column sum =\",a.sum(axis=0))\n",
        "np.sum(a,axis=1) #axis 1=row, 0=colun\n"
      ],
      "execution_count": 52,
      "outputs": [
        {
          "output_type": "stream",
          "text": [
            "row sum = [150  15]\n",
            "row column sum = [11 22 33 44 55]\n"
          ],
          "name": "stdout"
        },
        {
          "output_type": "execute_result",
          "data": {
            "text/plain": [
              "array([150,  15])"
            ]
          },
          "metadata": {
            "tags": []
          },
          "execution_count": 52
        }
      ]
    },
    {
      "cell_type": "code",
      "metadata": {
        "id": "pasrovUjRMHk",
        "colab_type": "code",
        "colab": {
          "base_uri": "https://localhost:8080/",
          "height": 106
        },
        "outputId": "a25ae546-1826-4708-fed7-200fc37429d9"
      },
      "source": [
        "#transpose\n",
        "a=np.array([[10,20,30,40,50],[1,2,3,4,5]])\n",
        "print(a.T)"
      ],
      "execution_count": 53,
      "outputs": [
        {
          "output_type": "stream",
          "text": [
            "[[10  1]\n",
            " [20  2]\n",
            " [30  3]\n",
            " [40  4]\n",
            " [50  5]]\n"
          ],
          "name": "stdout"
        }
      ]
    },
    {
      "cell_type": "code",
      "metadata": {
        "id": "wHUzrOtBR3MP",
        "colab_type": "code",
        "colab": {
          "base_uri": "https://localhost:8080/",
          "height": 53
        },
        "outputId": "108309aa-3d7b-46a0-9d0c-031f3468a1ae"
      },
      "source": [
        "#Flatten\n",
        "a=np.array([[10,20,30,40,50],[1,2,3,4,5]])\n",
        "b=a.ravel()\n",
        "print(b)\n",
        "print(a.T.ravel())"
      ],
      "execution_count": 57,
      "outputs": [
        {
          "output_type": "stream",
          "text": [
            "[10 20 30 40 50  1  2  3  4  5]\n",
            "[10  1 20  2 30  3 40  4 50  5]\n"
          ],
          "name": "stdout"
        }
      ]
    },
    {
      "cell_type": "code",
      "metadata": {
        "id": "G2dvGqHISRoS",
        "colab_type": "code",
        "colab": {
          "base_uri": "https://localhost:8080/",
          "height": 53
        },
        "outputId": "ad6f8a9b-1a06-4ed4-e9c7-26671470be8b"
      },
      "source": [
        "#sorting\n",
        "a=np.array([[50,10,40,30,50],[2,3,1,5,4]])\n",
        "a.sort()\n",
        "print(a)"
      ],
      "execution_count": 62,
      "outputs": [
        {
          "output_type": "stream",
          "text": [
            "[[10 30 40 50 50]\n",
            " [ 1  2  3  4  5]]\n"
          ],
          "name": "stdout"
        }
      ]
    },
    {
      "cell_type": "code",
      "metadata": {
        "id": "5e7CuRH3TB91",
        "colab_type": "code",
        "colab": {
          "base_uri": "https://localhost:8080/",
          "height": 53
        },
        "outputId": "92844039-083c-462c-d053-f43882d33c82"
      },
      "source": [
        "#sorting row colum wise\n",
        "a=np.array([[50,10,40,30,50],[2,3,1,5,4]])\n",
        "a.sort(axis=0)\n",
        "print(a)"
      ],
      "execution_count": 65,
      "outputs": [
        {
          "output_type": "stream",
          "text": [
            "[[ 2  3  1  5  4]\n",
            " [50 10 40 30 50]]\n"
          ],
          "name": "stdout"
        }
      ]
    },
    {
      "cell_type": "code",
      "metadata": {
        "id": "b0xguM64TYkg",
        "colab_type": "code",
        "colab": {
          "base_uri": "https://localhost:8080/",
          "height": 35
        },
        "outputId": "1e322393-f422-4a69-846a-15366301ca3a"
      },
      "source": [
        "#slicing\n",
        "a=np.array([[50,10,40,30,50],[2,3,1,5,4]])\n",
        "print(a[0][0:3])"
      ],
      "execution_count": 77,
      "outputs": [
        {
          "output_type": "stream",
          "text": [
            "[50 10 40]\n"
          ],
          "name": "stdout"
        }
      ]
    },
    {
      "cell_type": "code",
      "metadata": {
        "id": "7lMVEXhfVfuM",
        "colab_type": "code",
        "colab": {
          "base_uri": "https://localhost:8080/",
          "height": 53
        },
        "outputId": "d3686af9-f844-453a-9514-aee5ca4f794c"
      },
      "source": [
        "a=np.array([[3,4,5,6,7],\n",
        "            [9,8,7,6,5]])\n",
        "b=np.array([[1,1,1,1,1],\n",
        "            [1,1,1,1,1]])\n",
        "np.multiply(a,b)\n"
      ],
      "execution_count": 81,
      "outputs": [
        {
          "output_type": "execute_result",
          "data": {
            "text/plain": [
              "array([[3, 4, 5, 6, 7],\n",
              "       [9, 8, 7, 6, 5]])"
            ]
          },
          "metadata": {
            "tags": []
          },
          "execution_count": 81
        }
      ]
    }
  ]
}