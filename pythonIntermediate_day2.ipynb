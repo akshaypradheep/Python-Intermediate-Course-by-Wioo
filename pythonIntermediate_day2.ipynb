{
  "nbformat": 4,
  "nbformat_minor": 0,
  "metadata": {
    "colab": {
      "name": "pythonIntermediate_day2.ipynb",
      "provenance": [],
      "authorship_tag": "ABX9TyNhXheFeywN+2MwrcFY1gq7",
      "include_colab_link": true
    },
    "kernelspec": {
      "name": "python3",
      "display_name": "Python 3"
    }
  },
  "cells": [
    {
      "cell_type": "markdown",
      "metadata": {
        "id": "view-in-github",
        "colab_type": "text"
      },
      "source": [
        "<a href=\"https://colab.research.google.com/github/akshaypradheep/Python-Intermediate-Course-by-Wioo/blob/master/pythonIntermediate_day2.ipynb\" target=\"_parent\"><img src=\"https://colab.research.google.com/assets/colab-badge.svg\" alt=\"Open In Colab\"/></a>"
      ]
    },
    {
      "cell_type": "code",
      "metadata": {
        "id": "y0iydK0Cbwg5",
        "colab_type": "code",
        "colab": {
          "base_uri": "https://localhost:8080/",
          "height": 92
        },
        "outputId": "45879d50-04f2-4b92-d1ba-4d51ed5ec078"
      },
      "source": [
        "#LINKED LIST\n",
        "class Node:\n",
        "  def __init__(self,datavalue=None):\n",
        "    self.datavalue=datavalue\n",
        "    self.nextvalue=None\n",
        "\n",
        "class LinkedList:\n",
        "  def __init__(self):\n",
        "    self.headvalue=None\n",
        "\n",
        "  def display(self):\n",
        "    value=self.headvalue\n",
        "    while value is not None:\n",
        "      print(value.datavalue)\n",
        "      value=value.nextvalue\n",
        "\n",
        "LL=LinkedList()\n",
        "\n",
        "d1=Node(\"HEAD\")\n",
        "LL.headvalue=d1\n",
        "\n",
        "d2=Node(2)\n",
        "d1.nextvalue=d2\n",
        "\n",
        "d3=Node(3)\n",
        "d2.nextvalue=d3\n",
        "\n",
        "d4=Node(4)\n",
        "d3.nextvalue=d4\n",
        "\n",
        "LL.display()\n"
      ],
      "execution_count": null,
      "outputs": [
        {
          "output_type": "stream",
          "text": [
            "HEAD\n",
            "2\n",
            "3\n",
            "4\n"
          ],
          "name": "stdout"
        }
      ]
    },
    {
      "cell_type": "code",
      "metadata": {
        "id": "ajVjTPyNk_xJ",
        "colab_type": "code",
        "colab": {
          "base_uri": "https://localhost:8080/",
          "height": 73
        },
        "outputId": "a5b497b3-0ffc-4553-b25a-69739c651bb3"
      },
      "source": [
        "#stack\n",
        "\n",
        "#push\n",
        "stack=[]\n",
        "stack.append(1)\n",
        "stack.append(2)\n",
        "stack.append(3)\n",
        "stack.append(4)\n",
        "print(stack)\n",
        "\n",
        "#pop\n",
        "print(stack.pop())\n",
        "#after pop\n",
        "print(\"after poping :\",stack)"
      ],
      "execution_count": null,
      "outputs": [
        {
          "output_type": "stream",
          "text": [
            "[1, 2, 3, 4]\n",
            "4\n",
            "after poping : [1, 2, 3]\n"
          ],
          "name": "stdout"
        }
      ]
    },
    {
      "cell_type": "code",
      "metadata": {
        "id": "oJLIfNF_o_h6",
        "colab_type": "code",
        "colab": {
          "base_uri": "https://localhost:8080/",
          "height": 35
        },
        "outputId": "743bc18a-b781-4a70-a6bb-cd731bb72ff2"
      },
      "source": [
        "#QUEUE\n",
        "from collections import deque\n",
        "stack=deque()\n",
        "stack.append(1)\n",
        "stack.append(2)\n",
        "stack.append(3)\n",
        "stack.append(4)\n",
        "print(stack)\n",
        "\n"
      ],
      "execution_count": null,
      "outputs": [
        {
          "output_type": "stream",
          "text": [
            "deque([1, 2, 3, 4])\n"
          ],
          "name": "stdout"
        }
      ]
    },
    {
      "cell_type": "code",
      "metadata": {
        "id": "QWwQoRsgcQHA",
        "colab_type": "code",
        "colab": {
          "base_uri": "https://localhost:8080/",
          "height": 147
        },
        "outputId": "e262bb13-ab17-4323-a830-da6564750b36"
      },
      "source": [
        "class Node:\n",
        "    def __init__(self, data):\n",
        "       self.data = data\n",
        "       self.next = None\n",
        "class LinkedList:\n",
        "    def __init__(self):\n",
        "        self.head = None\n",
        "        self.last_node = None\n",
        "    def append(self, data):\n",
        "        if self.last_node is None:\n",
        "            self.head = Node(data)\n",
        "            self.last_node = self.head\n",
        "        else:\n",
        "            self.last_node.next = Node(data)\n",
        "            self.last_node = self.last_node.next\n",
        "    def display(self):\n",
        "        current = self.head\n",
        "        while current is not None:\n",
        "            print(current.data, end = ' ')\n",
        "            current = current.next\n",
        " \n",
        "a_llist = LinkedList()\n",
        "n = int(input('How many elements would you like to add? '))\n",
        "for i in range(n):\n",
        "    data = int(input('Enter data item: '))\n",
        "    a_llist.append(data)\n",
        "print('The linked list: ', end = '')\n",
        "a_llist.display()"
      ],
      "execution_count": null,
      "outputs": [
        {
          "output_type": "stream",
          "text": [
            "How many elements would you like to add? 5\n",
            "Enter data item: 1\n",
            "Enter data item: 2\n",
            "Enter data item: 3\n",
            "Enter data item: 4\n",
            "Enter data item: 5\n",
            "The linked list: 1 2 3 4 5 "
          ],
          "name": "stdout"
        }
      ]
    },
    {
      "cell_type": "code",
      "metadata": {
        "id": "dPONpzcn52rg",
        "colab_type": "code",
        "colab": {}
      },
      "source": [
        ""
      ],
      "execution_count": null,
      "outputs": []
    },
    {
      "cell_type": "code",
      "metadata": {
        "id": "iNfFYzXp8J4l",
        "colab_type": "code",
        "colab": {
          "base_uri": "https://localhost:8080/",
          "height": 259
        },
        "outputId": "1be88ed0-6764-4dd0-f362-176462053cab"
      },
      "source": [
        "stack=[]\n",
        "n = int(input('How many elements would you like to add? '))\n",
        "for i in range(n):\n",
        "  stack.append(int(input('Enter data item: ')))\n",
        "for i in range(n):\n",
        "  print(\"POP VALUE :\",stack.pop())\n",
        "  print(\"AFTER POPING :\",stack)"
      ],
      "execution_count": null,
      "outputs": [
        {
          "output_type": "stream",
          "text": [
            "How many elements would you like to add? 4\n",
            "Enter data item: 1\n",
            "Enter data item: 2\n",
            "Enter data item: 3\n",
            "Enter data item: 4\n",
            "POP VALUE : 4\n",
            "AFTER POPING : [1, 2, 3]\n",
            "POP VALUE : 3\n",
            "AFTER POPING : [1, 2]\n",
            "POP VALUE : 2\n",
            "AFTER POPING : [1]\n",
            "POP VALUE : 1\n",
            "AFTER POPING : []\n"
          ],
          "name": "stdout"
        }
      ]
    }
  ]
}