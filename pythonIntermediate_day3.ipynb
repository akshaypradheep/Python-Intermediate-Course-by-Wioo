{
  "nbformat": 4,
  "nbformat_minor": 0,
  "metadata": {
    "colab": {
      "name": "pythonIntermediate_day3.ipynb",
      "provenance": [],
      "authorship_tag": "ABX9TyOgd5sQolwlSlPJ+ywswaXy",
      "include_colab_link": true
    },
    "kernelspec": {
      "name": "python3",
      "display_name": "Python 3"
    }
  },
  "cells": [
    {
      "cell_type": "markdown",
      "metadata": {
        "id": "view-in-github",
        "colab_type": "text"
      },
      "source": [
        "<a href=\"https://colab.research.google.com/github/akshaypradheep/Python-Intermediate-Course-by-Wioo/blob/master/pythonIntermediate_day3.ipynb\" target=\"_parent\"><img src=\"https://colab.research.google.com/assets/colab-badge.svg\" alt=\"Open In Colab\"/></a>"
      ]
    },
    {
      "cell_type": "code",
      "metadata": {
        "id": "eYgHtuJuotGy",
        "colab_type": "code",
        "colab": {}
      },
      "source": [
        "#LINKED LIST\n",
        "class Node:\n",
        "  def __init__(self,datavalue=None):\n",
        "    self.datavalue=datavalue\n",
        "    self.nextvalue=None\n",
        "\n",
        "class LinkedList:\n",
        "  def __init__(self):\n",
        "    self.headvalue=None\n",
        "\n",
        "  def display(self):\n",
        "    value=self.headvalue\n",
        "    while value is not None:\n",
        "      print(value.datavalue)\n",
        "      value=value.nextvalue\n",
        "\n",
        "  def AtBegin(self,data):\n",
        "    d0=Node(data)\n",
        "    d0.nextvalue=self.headvalue\n",
        "    self.headvalue=d0\n",
        "  def AtEnd(self,data):\n",
        "    dn=Node(data)\n",
        "    if self.headvalue is None:\n",
        "      self.headvalue=dn\n",
        "    last=self.headvalue\n",
        "    while last.nextvalue is not None:\n",
        "      last=last.nextvalue\n",
        "    last.nextvalue=dn\n",
        "  def AtMiddle(self,middleNode,data):\n",
        "    NewNode=Node(data)\n",
        "    NewNode.nextvalue=middleNode.headvalue\n",
        "\n",
        "LL=LinkedList()\n",
        "LL.AtBegin(0)\n",
        "\n",
        "maxNum=int(input(\"ENTER THE MAX NUM OF ELEMENTS :\"))\n",
        "\n",
        "for i in range(maxNum):\n",
        "  LL.AtEnd(int(input(\"ENTER THE ELEMENT :\")))\n",
        "\n",
        "\n",
        "LL.display()"
      ],
      "execution_count": null,
      "outputs": []
    },
    {
      "cell_type": "code",
      "metadata": {
        "id": "InFECtnY3Pj-",
        "colab_type": "code",
        "colab": {
          "base_uri": "https://localhost:8080/",
          "height": 147
        },
        "outputId": "04443209-c7b9-4168-d02f-5eb6181e5803"
      },
      "source": [
        "#QUEUE usinf list\n",
        "\n",
        "q=[]\n",
        "a=int(input(\"enter the Number of elements:\"))\n",
        "for i in range(a):\n",
        "  q.append(int(input(\"enter element\")))\n",
        "\n",
        "for i in range(a):\n",
        "  print(\"dequed value :\",q.pop(0))\n",
        "  print(\"after deque: \",q)"
      ],
      "execution_count": null,
      "outputs": [
        {
          "output_type": "stream",
          "text": [
            "enter the Number of elements:2\n",
            "enter element1\n",
            "enter element2\n",
            "dequed value : 1\n",
            "after deque:  [2]\n",
            "dequed value : 2\n",
            "after deque:  []\n"
          ],
          "name": "stdout"
        }
      ]
    },
    {
      "cell_type": "code",
      "metadata": {
        "id": "tkwtzVYN4Uda",
        "colab_type": "code",
        "colab": {
          "base_uri": "https://localhost:8080/",
          "height": 54
        },
        "outputId": "15c362eb-88db-4d57-db1f-abd5aad71bb1"
      },
      "source": [
        "from collections import deque\n",
        "q=deque()\n",
        "q.append(1)\n",
        "q.append(2)\n",
        "q.append(3)\n",
        "print(q.popleft())\n",
        "print(q)\n"
      ],
      "execution_count": null,
      "outputs": [
        {
          "output_type": "stream",
          "text": [
            "1\n",
            "deque([2, 3])\n"
          ],
          "name": "stdout"
        }
      ]
    },
    {
      "cell_type": "code",
      "metadata": {
        "id": "OEnlhAIF4ocK",
        "colab_type": "code",
        "colab": {
          "base_uri": "https://localhost:8080/",
          "height": 73
        },
        "outputId": "8a537cc6-f0ec-4d50-f282-f4a099158a94"
      },
      "source": [
        "#stack with class with under flow handling\n",
        "class stack:\n",
        "  list=[]\n",
        "  def push(self,data):\n",
        "    self.list.append(data)\n",
        "  def pop(self):\n",
        "    if(len(self.list)==0):\n",
        "      print(\"underflow,coundn't POP\")\n",
        "    else:\n",
        "      self.list.pop()\n",
        "  def display(self):\n",
        "    print(self.list)\n",
        "\n",
        "st=stack()\n",
        "st.push(50)\n",
        "st.push(60)\n",
        "st.push(70)\n",
        "st.pop()\n",
        "st.pop()\n",
        "st.pop()\n",
        "st.pop()\n",
        "st.pop()\n",
        "st.display()"
      ],
      "execution_count": null,
      "outputs": [
        {
          "output_type": "stream",
          "text": [
            "underflow,coundn't POP\n",
            "underflow,coundn't POP\n",
            "[]\n"
          ],
          "name": "stdout"
        }
      ]
    }
  ]
}